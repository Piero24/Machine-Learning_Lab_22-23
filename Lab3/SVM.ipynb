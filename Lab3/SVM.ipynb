{
 "cells": [
  {
   "cell_type": "markdown",
   "metadata": {},
   "source": [
    "# Linear models: Support Vector Machines (SVM)"
   ]
  },
  {
   "cell_type": "markdown",
   "metadata": {},
   "source": [
    "In this notebook we are going to explore linear models and Support Vector Machines (SVM in short).\n",
    "\n",
    "Let's first import the required packages."
   ]
  },
  {
   "cell_type": "code",
   "execution_count": null,
   "metadata": {},
   "outputs": [],
   "source": [
    "#put here your ``numero di matricola''\n",
    "numero_di_matricola = 7\n",
    "\n",
    "from sklearn import datasets, preprocessing, linear_model, svm\n",
    "%matplotlib inline\n",
    "import matplotlib.pyplot as plt\n",
    "import numpy as np"
   ]
  },
  {
   "cell_type": "markdown",
   "metadata": {},
   "source": [
    "## SVM for linearly separable data"
   ]
  },
  {
   "cell_type": "markdown",
   "metadata": {},
   "source": [
    "Let's start by creating a simple linearly separable dataset for binary classification, where the instance space is $\\mathcal{X} =\\mathbb{R}^2$ (so that we can visualize it). Just to make things easier, we are going to rescale it too."
   ]
  },
  {
   "cell_type": "code",
   "execution_count": null,
   "metadata": {},
   "outputs": [],
   "source": [
    "X, y = datasets.make_blobs(n_samples = 500, centers = 2, n_features = 2, random_state=numero_di_matricola)\n",
    "\n",
    "scaler = preprocessing.StandardScaler()\n",
    "scaler.fit(X)\n",
    "X = scaler.transform(X)"
   ]
  },
  {
   "cell_type": "markdown",
   "metadata": {},
   "source": [
    "The following code plots the dataset, it is useful for later parts too."
   ]
  },
  {
   "cell_type": "code",
   "execution_count": null,
   "metadata": {},
   "outputs": [],
   "source": [
    "plt.title(\"Plot of dataset\")\n",
    "plt.scatter(X[:, 0], X[:, 1], c=y)"
   ]
  },
  {
   "cell_type": "markdown",
   "metadata": {},
   "source": [
    "Now let's run the perceptron, using $\\texttt{linear\\_model.Perceptron(...)}$ from sklearn. WE fix the number of iterations to 100 so that it runs quickly, and $\\texttt{random\\_state=10}$.\n",
    "\n",
    "What do we expect in terms of training error? "
   ]
  },
  {
   "cell_type": "code",
   "execution_count": null,
   "metadata": {},
   "outputs": [],
   "source": [
    "#Create a perceptron classifier\n",
    "# TO DO: COMPLETE\n",
    "\n",
    "\n",
    "#Training the model\n",
    "# TO DO: COMPLETE\n",
    "\n",
    "\n",
    "#Get the training error as 1 - score()\n",
    "# TO DO: COMPLETE\n",
    "\n",
    "\n",
    "#Print the training error\n",
    "# TO DO: COMPLETE\n"
   ]
  },
  {
   "cell_type": "markdown",
   "metadata": {},
   "source": [
    "The following code plots the *decision boundary* of a model and the training set. It is useful for later parts too."
   ]
  },
  {
   "cell_type": "code",
   "execution_count": null,
   "metadata": {},
   "outputs": [],
   "source": [
    "plt.scatter(X[:, 0], X[:, 1], c=y, s=30)\n",
    "ax = plt.gca()\n",
    "plt.title(\"Plot of perceptron decision boundary\")\n",
    "xlim = ax.get_xlim()\n",
    "ylim = ax.get_ylim()\n",
    "# create grid to evaluate model\n",
    "xx = np.linspace(xlim[0], xlim[1], 30)\n",
    "yy = np.linspace(ylim[0], ylim[1], 30)\n",
    "YY, XX = np.meshgrid(yy, xx)\n",
    "xy = np.vstack([XX.ravel(), YY.ravel()]).T\n",
    "# use the decision_function call to obtain the boundary to be plot.\n",
    "# TO DO\n",
    "\n",
    "Z = #COMPLETE\n",
    "\n",
    "# plot decision boundary and margins\n",
    "ax.contour(XX, YY, Z, colors='k', levels=[0], alpha=1,\n",
    "linestyles=['-'])"
   ]
  },
  {
   "cell_type": "markdown",
   "metadata": {},
   "source": [
    "If we change the value of $\\texttt{random\\_state}$ in the perceptron, it will start from a different model. \n",
    "\n",
    "Let's run the perceptron with $\\texttt{random\\_state}=$. How will the solution compare to the above?"
   ]
  },
  {
   "cell_type": "code",
   "execution_count": null,
   "metadata": {},
   "outputs": [],
   "source": [
    "#Create a perceptron classifier\n",
    "# TO DO: COMPLETE\n",
    "\n",
    "\n",
    "#Training the model\n",
    "# TO DO: COMPLETE\n",
    "\n",
    "\n",
    "#Get the training error as 1 - score()\n",
    "# TO DO: COMPLETE\n",
    "\n",
    "\n",
    "#Print the training error\n",
    "# TO DO: COMPLETE\n"
   ]
  },
  {
   "cell_type": "markdown",
   "metadata": {},
   "source": [
    "What about the decision boundary? Let's plot it."
   ]
  },
  {
   "cell_type": "code",
   "execution_count": null,
   "metadata": {},
   "outputs": [],
   "source": [
    "# TO DO: WRITE THE CODE TO PLOT THE DECISION BOUNDARY\n",
    "\n"
   ]
  },
  {
   "cell_type": "markdown",
   "metadata": {},
   "source": [
    "Which model is better? \n",
    "\n",
    "Is any of these the *best* choice?"
   ]
  },
  {
   "cell_type": "markdown",
   "metadata": {},
   "source": [
    "Now, let's run the hard-SVM on the same data. To obtain (an almost) hard-SVM in sklearn, we can use $\\texttt{svm.SVC(...)}$ with a very high value of the parameter $C$."
   ]
  },
  {
   "cell_type": "code",
   "execution_count": null,
   "metadata": {},
   "outputs": [],
   "source": [
    "#Creating a SVM model\n",
    "# TO DO: COMPLETE\n",
    "\n",
    "\n",
    "#Training the model\n",
    "# TO DO: COMPLETE\n",
    "\n",
    "\n",
    "#Get the training error as 1 - score()\n",
    "# TO DO: COMPLETE\n",
    "\n",
    "\n",
    "#Print the training error\n",
    "# TO DO: COMPLETE\n"
   ]
  },
  {
   "cell_type": "markdown",
   "metadata": {},
   "source": [
    "Plot the SVM decision boundary."
   ]
  },
  {
   "cell_type": "code",
   "execution_count": null,
   "metadata": {},
   "outputs": [],
   "source": [
    "# TO DO: WRITE THE CODE TO PLOT THE DECISION BOUNDARY\n",
    "\n"
   ]
  },
  {
   "cell_type": "markdown",
   "metadata": {},
   "source": [
    "Let's see what the support vectors are. They are defined in attribute $\\texttt{support_vectors_}$"
   ]
  },
  {
   "cell_type": "code",
   "execution_count": null,
   "metadata": {},
   "outputs": [],
   "source": [
    "#print the support vectors (attribute support)\n",
    "#TO DO: COMPLETE\n"
   ]
  },
  {
   "cell_type": "markdown",
   "metadata": {},
   "source": [
    "Let's what happens moving one support vector. We first obtain the indices of the support vectors."
   ]
  },
  {
   "cell_type": "code",
   "execution_count": null,
   "metadata": {},
   "outputs": [],
   "source": [
    "#print the indices of support vectors (attribute support)\n",
    "#TO DO: COMPLETE\n"
   ]
  },
  {
   "cell_type": "markdown",
   "metadata": {},
   "source": [
    "Now let's move one support vector closer to the points in the same class."
   ]
  },
  {
   "cell_type": "code",
   "execution_count": null,
   "metadata": {},
   "outputs": [],
   "source": [
    "#let's copy the data and maove one support vector close to the points in the same class\n",
    "#TO DO: COMPLETE\n",
    "\n",
    "#let's plot the new dataset\n",
    "#TO DO: COMPLETE\n"
   ]
  },
  {
   "cell_type": "markdown",
   "metadata": {},
   "source": [
    "Let's run the SVM on the new data."
   ]
  },
  {
   "cell_type": "code",
   "execution_count": null,
   "metadata": {},
   "outputs": [],
   "source": [
    "#Creating a SVM model\n",
    "# TO DO: COMPLETE\n",
    "\n",
    "\n",
    "#Training the model\n",
    "# TO DO: COMPLETE\n",
    "\n",
    "\n",
    "#Get the training error as 1 - score()\n",
    "# TO DO: COMPLETE\n",
    "\n",
    "\n",
    "#Print the training error\n",
    "# TO DO: COMPLETE\n"
   ]
  },
  {
   "cell_type": "markdown",
   "metadata": {},
   "source": [
    "Plot the SVM decision boundary and the previous decision boundary."
   ]
  },
  {
   "cell_type": "code",
   "execution_count": null,
   "metadata": {},
   "outputs": [],
   "source": [
    "#TO DO: complete\n",
    "\n"
   ]
  },
  {
   "cell_type": "markdown",
   "metadata": {},
   "source": [
    "Now let's move one support vector closer to the points in the otherr class."
   ]
  },
  {
   "cell_type": "code",
   "execution_count": null,
   "metadata": {},
   "outputs": [],
   "source": [
    "#let's copy the original data and move one support vector close to the points in the other class\n",
    "#TO DO: COMPLETE\n",
    "\n",
    "\n",
    "#let's plot the new dataset\n",
    "#TO DO: COMPLETE\n"
   ]
  },
  {
   "cell_type": "markdown",
   "metadata": {},
   "source": [
    "Let's run the SVM on the new data."
   ]
  },
  {
   "cell_type": "code",
   "execution_count": null,
   "metadata": {},
   "outputs": [],
   "source": [
    "#Creating a SVM model\n",
    "# TO DO: COMPLETE\n",
    "\n",
    "\n",
    "#Training the model\n",
    "# TO DO: COMPLETE\n",
    "\n",
    "\n",
    "#Get the training error as 1 - score()\n",
    "# TO DO: COMPLETE\n",
    "\n",
    "\n",
    "#Print the training error\n",
    "# TO DO: COMPLETE\n"
   ]
  },
  {
   "cell_type": "markdown",
   "metadata": {},
   "source": [
    "Let's plot the new decision boundary, and the old ones too."
   ]
  },
  {
   "cell_type": "code",
   "execution_count": null,
   "metadata": {},
   "outputs": [],
   "source": [
    "# TO DO: COMPLETE\n",
    "\n"
   ]
  },
  {
   "cell_type": "markdown",
   "metadata": {},
   "source": [
    "## SVM for non-linearly separable data"
   ]
  },
  {
   "cell_type": "markdown",
   "metadata": {},
   "source": [
    "Let's make a dataset that is not linearly separble, and let's plot it."
   ]
  },
  {
   "cell_type": "code",
   "execution_count": null,
   "metadata": {},
   "outputs": [],
   "source": [
    "# TO DO: COMPLETE\n"
   ]
  },
  {
   "cell_type": "markdown",
   "metadata": {},
   "source": [
    "Let's try to learn a hard-SVM. It means that the parameter C, which is approximately equal to $1/\\lambda$ with $\\lambda$ as in our slides."
   ]
  },
  {
   "cell_type": "code",
   "execution_count": null,
   "metadata": {},
   "outputs": [],
   "source": [
    "#Creating a hard SVM model\n",
    "# TO DO: COMPLETE\n",
    "\n",
    "\n",
    "#Training the model\n",
    "# TO DO: COMPLETE\n",
    "\n",
    "\n",
    "#Get the training error as 1 - score()\n",
    "# TO DO: COMPLETE\n",
    "\n",
    "\n",
    "#Print the training error\n",
    "# TO DO: COMPLETE\n"
   ]
  },
  {
   "cell_type": "markdown",
   "metadata": {},
   "source": [
    "The following code plots the decision boundary, as well as the margin."
   ]
  },
  {
   "cell_type": "code",
   "execution_count": null,
   "metadata": {},
   "outputs": [],
   "source": [
    "plt.scatter(X_nls[:, 0], X_nls[:, 1], c=y_nls, s=30)\n",
    "ax = plt.gca()\n",
    "plt.title(\"Plot of hard SVM decision boundary\")\n",
    "xlim = ax.get_xlim()\n",
    "ylim = ax.get_ylim()\n",
    "# create grid to evaluate model\n",
    "xx = np.linspace(xlim[0], xlim[1], 30)\n",
    "yy = np.linspace(ylim[0], ylim[1], 30)\n",
    "YY, XX = np.meshgrid(yy, xx)\n",
    "xy = np.vstack([XX.ravel(), YY.ravel()]).T\n",
    "\n",
    "#TO DO\n",
    "Z = #COMPLETE\n",
    "\n",
    "ax.contour(\n",
    "    XX, YY, Z, colors=\"k\", levels=[-1, 0, 1], alpha=0.5, linestyles=[\"--\", \"-\", \"--\"]\n",
    ")"
   ]
  },
  {
   "cell_type": "markdown",
   "metadata": {},
   "source": [
    "Let's try with a smaller value of C ($10^4$), that corresponds to larger value of $\\lambda$.\n",
    "\n",
    "What do you expect?"
   ]
  },
  {
   "cell_type": "code",
   "execution_count": null,
   "metadata": {},
   "outputs": [],
   "source": [
    "#Creating a hard SVM model\n",
    "# TO DO: COMPLETE\n",
    "\n",
    "\n",
    "#Training the model\n",
    "# TO DO: COMPLETE\n",
    "\n",
    "\n",
    "#Get the training error as 1 - score()\n",
    "# TO DO: COMPLETE\n",
    "\n",
    "\n",
    "#Print the training error\n",
    "# TO DO: COMPLETE\n"
   ]
  },
  {
   "cell_type": "markdown",
   "metadata": {},
   "source": [
    "What about the decision boundary and the margin?"
   ]
  },
  {
   "cell_type": "code",
   "execution_count": null,
   "metadata": {},
   "outputs": [],
   "source": [
    "#TO DO: COMPLETE\n",
    "\n"
   ]
  },
  {
   "cell_type": "markdown",
   "metadata": {},
   "source": [
    "Let's repeat everything for C=100"
   ]
  },
  {
   "cell_type": "code",
   "execution_count": 1,
   "metadata": {},
   "outputs": [],
   "source": [
    "#Creating a hard SVM model\n",
    "# TO DO: COMPLETE\n",
    "\n",
    "\n",
    "#Training the model\n",
    "# TO DO: COMPLETE\n",
    "\n",
    "\n",
    "#Get the training error as 1 - score()\n",
    "# TO DO: COMPLETE\n",
    "\n",
    "\n",
    "#Print the training error\n",
    "# TO DO: COMPLETE\n"
   ]
  },
  {
   "cell_type": "code",
   "execution_count": 2,
   "metadata": {},
   "outputs": [],
   "source": [
    "# TO DO: COMPLETE\n",
    "\n"
   ]
  },
  {
   "cell_type": "markdown",
   "metadata": {},
   "source": [
    "And for C=1?"
   ]
  },
  {
   "cell_type": "code",
   "execution_count": 3,
   "metadata": {},
   "outputs": [],
   "source": [
    "#Creating a hard SVM model\n",
    "# TO DO: COMPLETE\n",
    "\n",
    "\n",
    "#Training the model\n",
    "# TO DO: COMPLETE\n",
    "\n",
    "\n",
    "#Get the training error as 1 - score()\n",
    "# TO DO: COMPLETE\n",
    "\n",
    "\n",
    "#Print the training error\n",
    "# TO DO: COMPLETE\n"
   ]
  },
  {
   "cell_type": "code",
   "execution_count": 4,
   "metadata": {},
   "outputs": [],
   "source": [
    "# TO DO: COMPLETE\n",
    "\n"
   ]
  },
  {
   "cell_type": "markdown",
   "metadata": {},
   "source": [
    "Let's see what are the support vectors."
   ]
  },
  {
   "cell_type": "code",
   "execution_count": 5,
   "metadata": {},
   "outputs": [],
   "source": [
    "#TO DO COMPLETE:\n"
   ]
  },
  {
   "cell_type": "markdown",
   "metadata": {},
   "source": [
    "Just for comparison, let's run the perceptron on the same dataset with various initial random states"
   ]
  },
  {
   "cell_type": "code",
   "execution_count": null,
   "metadata": {},
   "outputs": [],
   "source": [
    "#Create a perceptron classifier\n",
    "# TO DO: COMPLETE\n",
    "\n",
    "\n",
    "#Training the model\n",
    "# TO DO: COMPLETE\n",
    "\n",
    "\n",
    "#Get the training error as 1 - score()\n",
    "# TO DO: COMPLETE\n",
    "\n",
    "\n",
    "#Print the training error\n",
    "# TO DO: COMPLETE\n"
   ]
  },
  {
   "cell_type": "markdown",
   "metadata": {},
   "source": [
    "Let's plot the decision boundary."
   ]
  },
  {
   "cell_type": "code",
   "execution_count": 6,
   "metadata": {},
   "outputs": [],
   "source": [
    "# TO DO: COMPLETE\n"
   ]
  },
  {
   "cell_type": "code",
   "execution_count": null,
   "metadata": {},
   "outputs": [],
   "source": [
    "#Create a perceptron classifier\n",
    "# TO DO: COMPLETE\n",
    "\n",
    "\n",
    "#Training the model\n",
    "# TO DO: COMPLETE\n",
    "\n",
    "\n",
    "#Get the training error as 1 - score()\n",
    "# TO DO: COMPLETE\n",
    "\n",
    "\n",
    "#Print the training error\n",
    "# TO DO: COMPLETE\n",
    "\n",
    "\n",
    "#Plot the decision boundary\n"
   ]
  },
  {
   "cell_type": "code",
   "execution_count": 7,
   "metadata": {},
   "outputs": [],
   "source": [
    "#Create a perceptron classifier\n",
    "# TO DO: COMPLETE\n",
    "\n",
    "\n",
    "#Training the model\n",
    "# TO DO: COMPLETE\n",
    "\n",
    "\n",
    "#Get the training error as 1 - score()\n",
    "# TO DO: COMPLETE\n",
    "\n",
    "\n",
    "#Print the training error\n",
    "# TO DO: COMPLETE\n",
    "\n",
    "\n",
    "#Plot the decision boundary\n"
   ]
  },
  {
   "cell_type": "code",
   "execution_count": null,
   "metadata": {},
   "outputs": [],
   "source": []
  }
 ],
 "metadata": {
  "kernelspec": {
   "display_name": "Python 3",
   "language": "python",
   "name": "python3"
  },
  "language_info": {
   "codemirror_mode": {
    "name": "ipython",
    "version": 3
   },
   "file_extension": ".py",
   "mimetype": "text/x-python",
   "name": "python",
   "nbconvert_exporter": "python",
   "pygments_lexer": "ipython3",
   "version": "3.8.8"
  }
 },
 "nbformat": 4,
 "nbformat_minor": 4
}
