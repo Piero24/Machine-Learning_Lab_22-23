{
 "cells": [
  {
   "cell_type": "markdown",
   "metadata": {},
   "source": [
    "#  Neural Networks: Regression on House Pricing Dataset\n",
    "We consider a reduced version of a dataset containing house sale prices for King County, which includes Seattle. It includes homes sold between May 2014 and May 2015.\n",
    "\n",
    "https://www.kaggle.com/harlfoxem/housesalesprediction\n",
    "\n",
    "For each house we know 18 house features (e.g., number of bedrooms, number of bathrooms, etc.) plus its price, that is what we would like to predict."
   ]
  },
  {
   "cell_type": "markdown",
   "metadata": {},
   "source": [
    "## Insert your ID number (\"numero di matricola\") below"
   ]
  },
  {
   "cell_type": "code",
   "execution_count": 1,
   "metadata": {},
   "outputs": [],
   "source": [
    "#put here your ``numero di matricola''\n",
    "numero_di_matricola = 1 # COMPLETE"
   ]
  },
  {
   "cell_type": "code",
   "execution_count": 2,
   "metadata": {},
   "outputs": [],
   "source": [
    "#import all packages needed\n",
    "%matplotlib inline\n",
    "import pandas as pd\n",
    "import numpy as np\n",
    "import matplotlib.pyplot as plt"
   ]
  },
  {
   "cell_type": "markdown",
   "metadata": {},
   "source": [
    "Load the data, remove data samples/points with missing values (NaN) and take a look at them."
   ]
  },
  {
   "cell_type": "code",
   "execution_count": 3,
   "metadata": {},
   "outputs": [
    {
     "data": {
      "text/html": [
       "<div>\n",
       "<style scoped>\n",
       "    .dataframe tbody tr th:only-of-type {\n",
       "        vertical-align: middle;\n",
       "    }\n",
       "\n",
       "    .dataframe tbody tr th {\n",
       "        vertical-align: top;\n",
       "    }\n",
       "\n",
       "    .dataframe thead th {\n",
       "        text-align: right;\n",
       "    }\n",
       "</style>\n",
       "<table border=\"1\" class=\"dataframe\">\n",
       "  <thead>\n",
       "    <tr style=\"text-align: right;\">\n",
       "      <th></th>\n",
       "      <th>id</th>\n",
       "      <th>price</th>\n",
       "      <th>bedrooms</th>\n",
       "      <th>bathrooms</th>\n",
       "      <th>sqft_living</th>\n",
       "      <th>sqft_lot</th>\n",
       "      <th>floors</th>\n",
       "      <th>waterfront</th>\n",
       "      <th>view</th>\n",
       "      <th>condition</th>\n",
       "      <th>grade</th>\n",
       "      <th>sqft_above</th>\n",
       "      <th>sqft_basement</th>\n",
       "      <th>yr_built</th>\n",
       "      <th>yr_renovated</th>\n",
       "      <th>zipcode</th>\n",
       "      <th>lat</th>\n",
       "      <th>long</th>\n",
       "      <th>sqft_living15</th>\n",
       "      <th>sqft_lot15</th>\n",
       "    </tr>\n",
       "  </thead>\n",
       "  <tbody>\n",
       "    <tr>\n",
       "      <th>count</th>\n",
       "      <td>3.164000e+03</td>\n",
       "      <td>3.164000e+03</td>\n",
       "      <td>3164.000000</td>\n",
       "      <td>3164.000000</td>\n",
       "      <td>3164.000000</td>\n",
       "      <td>3.164000e+03</td>\n",
       "      <td>3164.000000</td>\n",
       "      <td>3164.000000</td>\n",
       "      <td>3164.000000</td>\n",
       "      <td>3164.000000</td>\n",
       "      <td>3164.000000</td>\n",
       "      <td>3164.000000</td>\n",
       "      <td>3164.000000</td>\n",
       "      <td>3164.000000</td>\n",
       "      <td>3164.000000</td>\n",
       "      <td>3164.000000</td>\n",
       "      <td>3164.000000</td>\n",
       "      <td>3164.000000</td>\n",
       "      <td>3164.000000</td>\n",
       "      <td>3164.000000</td>\n",
       "    </tr>\n",
       "    <tr>\n",
       "      <th>mean</th>\n",
       "      <td>4.645240e+09</td>\n",
       "      <td>5.354358e+05</td>\n",
       "      <td>3.381163</td>\n",
       "      <td>2.071903</td>\n",
       "      <td>2070.027813</td>\n",
       "      <td>1.525054e+04</td>\n",
       "      <td>1.434893</td>\n",
       "      <td>0.009798</td>\n",
       "      <td>0.244311</td>\n",
       "      <td>3.459229</td>\n",
       "      <td>7.615676</td>\n",
       "      <td>1761.252212</td>\n",
       "      <td>308.775601</td>\n",
       "      <td>1967.489254</td>\n",
       "      <td>94.668774</td>\n",
       "      <td>98077.125158</td>\n",
       "      <td>47.557868</td>\n",
       "      <td>-122.212337</td>\n",
       "      <td>1982.544564</td>\n",
       "      <td>13176.302465</td>\n",
       "    </tr>\n",
       "    <tr>\n",
       "      <th>std</th>\n",
       "      <td>2.854203e+09</td>\n",
       "      <td>3.809004e+05</td>\n",
       "      <td>0.895472</td>\n",
       "      <td>0.768212</td>\n",
       "      <td>920.251879</td>\n",
       "      <td>4.254457e+04</td>\n",
       "      <td>0.507792</td>\n",
       "      <td>0.098513</td>\n",
       "      <td>0.776298</td>\n",
       "      <td>0.682592</td>\n",
       "      <td>1.166324</td>\n",
       "      <td>815.934864</td>\n",
       "      <td>458.977904</td>\n",
       "      <td>28.095275</td>\n",
       "      <td>424.439427</td>\n",
       "      <td>54.172937</td>\n",
       "      <td>0.140789</td>\n",
       "      <td>0.139577</td>\n",
       "      <td>686.256670</td>\n",
       "      <td>25413.180755</td>\n",
       "    </tr>\n",
       "    <tr>\n",
       "      <th>min</th>\n",
       "      <td>1.000102e+06</td>\n",
       "      <td>7.500000e+04</td>\n",
       "      <td>0.000000</td>\n",
       "      <td>0.000000</td>\n",
       "      <td>380.000000</td>\n",
       "      <td>6.490000e+02</td>\n",
       "      <td>1.000000</td>\n",
       "      <td>0.000000</td>\n",
       "      <td>0.000000</td>\n",
       "      <td>1.000000</td>\n",
       "      <td>3.000000</td>\n",
       "      <td>380.000000</td>\n",
       "      <td>0.000000</td>\n",
       "      <td>1900.000000</td>\n",
       "      <td>0.000000</td>\n",
       "      <td>98001.000000</td>\n",
       "      <td>47.177500</td>\n",
       "      <td>-122.514000</td>\n",
       "      <td>620.000000</td>\n",
       "      <td>660.000000</td>\n",
       "    </tr>\n",
       "    <tr>\n",
       "      <th>25%</th>\n",
       "      <td>2.199775e+09</td>\n",
       "      <td>3.150000e+05</td>\n",
       "      <td>3.000000</td>\n",
       "      <td>1.500000</td>\n",
       "      <td>1430.000000</td>\n",
       "      <td>5.453750e+03</td>\n",
       "      <td>1.000000</td>\n",
       "      <td>0.000000</td>\n",
       "      <td>0.000000</td>\n",
       "      <td>3.000000</td>\n",
       "      <td>7.000000</td>\n",
       "      <td>1190.000000</td>\n",
       "      <td>0.000000</td>\n",
       "      <td>1950.000000</td>\n",
       "      <td>0.000000</td>\n",
       "      <td>98032.000000</td>\n",
       "      <td>47.459575</td>\n",
       "      <td>-122.324250</td>\n",
       "      <td>1480.000000</td>\n",
       "      <td>5429.500000</td>\n",
       "    </tr>\n",
       "    <tr>\n",
       "      <th>50%</th>\n",
       "      <td>4.027701e+09</td>\n",
       "      <td>4.450000e+05</td>\n",
       "      <td>3.000000</td>\n",
       "      <td>2.000000</td>\n",
       "      <td>1910.000000</td>\n",
       "      <td>8.000000e+03</td>\n",
       "      <td>1.000000</td>\n",
       "      <td>0.000000</td>\n",
       "      <td>0.000000</td>\n",
       "      <td>3.000000</td>\n",
       "      <td>7.000000</td>\n",
       "      <td>1545.000000</td>\n",
       "      <td>0.000000</td>\n",
       "      <td>1969.000000</td>\n",
       "      <td>0.000000</td>\n",
       "      <td>98059.000000</td>\n",
       "      <td>47.572500</td>\n",
       "      <td>-122.226000</td>\n",
       "      <td>1830.000000</td>\n",
       "      <td>7873.000000</td>\n",
       "    </tr>\n",
       "    <tr>\n",
       "      <th>75%</th>\n",
       "      <td>7.358175e+09</td>\n",
       "      <td>6.402500e+05</td>\n",
       "      <td>4.000000</td>\n",
       "      <td>2.500000</td>\n",
       "      <td>2500.000000</td>\n",
       "      <td>1.122250e+04</td>\n",
       "      <td>2.000000</td>\n",
       "      <td>0.000000</td>\n",
       "      <td>0.000000</td>\n",
       "      <td>4.000000</td>\n",
       "      <td>8.000000</td>\n",
       "      <td>2150.000000</td>\n",
       "      <td>600.000000</td>\n",
       "      <td>1990.000000</td>\n",
       "      <td>0.000000</td>\n",
       "      <td>98117.000000</td>\n",
       "      <td>47.680250</td>\n",
       "      <td>-122.124000</td>\n",
       "      <td>2360.000000</td>\n",
       "      <td>10408.250000</td>\n",
       "    </tr>\n",
       "    <tr>\n",
       "      <th>max</th>\n",
       "      <td>9.839301e+09</td>\n",
       "      <td>5.350000e+06</td>\n",
       "      <td>8.000000</td>\n",
       "      <td>6.000000</td>\n",
       "      <td>8010.000000</td>\n",
       "      <td>1.651359e+06</td>\n",
       "      <td>3.500000</td>\n",
       "      <td>1.000000</td>\n",
       "      <td>4.000000</td>\n",
       "      <td>5.000000</td>\n",
       "      <td>12.000000</td>\n",
       "      <td>6720.000000</td>\n",
       "      <td>2620.000000</td>\n",
       "      <td>2015.000000</td>\n",
       "      <td>2015.000000</td>\n",
       "      <td>98199.000000</td>\n",
       "      <td>47.777600</td>\n",
       "      <td>-121.315000</td>\n",
       "      <td>5790.000000</td>\n",
       "      <td>425581.000000</td>\n",
       "    </tr>\n",
       "  </tbody>\n",
       "</table>\n",
       "</div>"
      ],
      "text/plain": [
       "                 id         price     bedrooms    bathrooms  sqft_living  \\\n",
       "count  3.164000e+03  3.164000e+03  3164.000000  3164.000000  3164.000000   \n",
       "mean   4.645240e+09  5.354358e+05     3.381163     2.071903  2070.027813   \n",
       "std    2.854203e+09  3.809004e+05     0.895472     0.768212   920.251879   \n",
       "min    1.000102e+06  7.500000e+04     0.000000     0.000000   380.000000   \n",
       "25%    2.199775e+09  3.150000e+05     3.000000     1.500000  1430.000000   \n",
       "50%    4.027701e+09  4.450000e+05     3.000000     2.000000  1910.000000   \n",
       "75%    7.358175e+09  6.402500e+05     4.000000     2.500000  2500.000000   \n",
       "max    9.839301e+09  5.350000e+06     8.000000     6.000000  8010.000000   \n",
       "\n",
       "           sqft_lot       floors   waterfront         view    condition  \\\n",
       "count  3.164000e+03  3164.000000  3164.000000  3164.000000  3164.000000   \n",
       "mean   1.525054e+04     1.434893     0.009798     0.244311     3.459229   \n",
       "std    4.254457e+04     0.507792     0.098513     0.776298     0.682592   \n",
       "min    6.490000e+02     1.000000     0.000000     0.000000     1.000000   \n",
       "25%    5.453750e+03     1.000000     0.000000     0.000000     3.000000   \n",
       "50%    8.000000e+03     1.000000     0.000000     0.000000     3.000000   \n",
       "75%    1.122250e+04     2.000000     0.000000     0.000000     4.000000   \n",
       "max    1.651359e+06     3.500000     1.000000     4.000000     5.000000   \n",
       "\n",
       "             grade   sqft_above  sqft_basement     yr_built  yr_renovated  \\\n",
       "count  3164.000000  3164.000000    3164.000000  3164.000000   3164.000000   \n",
       "mean      7.615676  1761.252212     308.775601  1967.489254     94.668774   \n",
       "std       1.166324   815.934864     458.977904    28.095275    424.439427   \n",
       "min       3.000000   380.000000       0.000000  1900.000000      0.000000   \n",
       "25%       7.000000  1190.000000       0.000000  1950.000000      0.000000   \n",
       "50%       7.000000  1545.000000       0.000000  1969.000000      0.000000   \n",
       "75%       8.000000  2150.000000     600.000000  1990.000000      0.000000   \n",
       "max      12.000000  6720.000000    2620.000000  2015.000000   2015.000000   \n",
       "\n",
       "            zipcode          lat         long  sqft_living15     sqft_lot15  \n",
       "count   3164.000000  3164.000000  3164.000000    3164.000000    3164.000000  \n",
       "mean   98077.125158    47.557868  -122.212337    1982.544564   13176.302465  \n",
       "std       54.172937     0.140789     0.139577     686.256670   25413.180755  \n",
       "min    98001.000000    47.177500  -122.514000     620.000000     660.000000  \n",
       "25%    98032.000000    47.459575  -122.324250    1480.000000    5429.500000  \n",
       "50%    98059.000000    47.572500  -122.226000    1830.000000    7873.000000  \n",
       "75%    98117.000000    47.680250  -122.124000    2360.000000   10408.250000  \n",
       "max    98199.000000    47.777600  -121.315000    5790.000000  425581.000000  "
      ]
     },
     "execution_count": 3,
     "metadata": {},
     "output_type": "execute_result"
    }
   ],
   "source": [
    "#load the data\n",
    "df = pd.read_csv('kc_house_data.csv', sep = ',')\n",
    "\n",
    "#remove the data samples with missing values (NaN)\n",
    "df = df.dropna() \n",
    "\n",
    "df.describe()"
   ]
  },
  {
   "cell_type": "markdown",
   "metadata": {},
   "source": [
    "Extract input and output data. We want to predict the price by using features other than id as input."
   ]
  },
  {
   "cell_type": "code",
   "execution_count": 4,
   "metadata": {},
   "outputs": [
    {
     "name": "stdout",
     "output_type": "stream",
     "text": [
      "Amount of data: 3164\n"
     ]
    }
   ],
   "source": [
    "Data = df.values\n",
    "# m = number of input samples\n",
    "m = Data.shape[0]\n",
    "print(\"Amount of data:\",m)\n",
    "Y = Data[:m,2]\n",
    "X = Data[:m,3:]"
   ]
  },
  {
   "cell_type": "markdown",
   "metadata": {},
   "source": [
    "## Data Pre-Processing\n",
    "\n",
    "We split the data into 3 parts: one will be used for training and choosing the parameters, one for choosing among different models, and one for testing. The part for training and choosing the parameters will consist of $2/3$ of all samples, the one for choosing among different models will consist of $1/6$ of all samples, while the other part consists of the remaining $1/6$-th of all samples."
   ]
  },
  {
   "cell_type": "code",
   "execution_count": 5,
   "metadata": {},
   "outputs": [
    {
     "name": "stdout",
     "output_type": "stream",
     "text": [
      "Amount of data for training and deciding parameters: 2109\n",
      "Amount of data for validation (choosing among different models): 527\n",
      "Amount of data for test: 528\n"
     ]
    }
   ],
   "source": [
    "# Split data into train (2/3 of samples), validation (1/6 of samples), and test data (the rest)\n",
    "m_train = int(2./3.*m)\n",
    "m_val = int((m-m_train)/2.)\n",
    "m_test = m - m_train - m_val\n",
    "print(\"Amount of data for training and deciding parameters:\",m_train)\n",
    "print(\"Amount of data for validation (choosing among different models):\",m_val)\n",
    "print(\"Amount of data for test:\",m_test)\n",
    "from sklearn.model_selection import train_test_split\n",
    "\n",
    "Xtrain_and_val, Xtest, Ytrain_and_val, Ytest = train_test_split(X, Y, test_size=m_test/m, random_state=numero_di_matricola)\n",
    "Xtrain, Xval, Ytrain, Yval = train_test_split(Xtrain_and_val, Ytrain_and_val, test_size=m_val/(m_train+m_val), random_state=numero_di_matricola)"
   ]
  },
  {
   "cell_type": "markdown",
   "metadata": {},
   "source": [
    "Let's standardize the data."
   ]
  },
  {
   "cell_type": "code",
   "execution_count": 6,
   "metadata": {},
   "outputs": [],
   "source": [
    "# Data pre-processing\n",
    "from sklearn import preprocessing\n",
    "scaler = preprocessing.StandardScaler().fit(Xtrain)\n",
    "Xtrain_scaled = scaler.transform(Xtrain)\n",
    "Xtrain_and_val_scaled = scaler.transform(Xtrain_and_val)\n",
    "Xval_scaled = scaler.transform(Xval)\n",
    "Xtest_scaled = scaler.transform(Xtest)"
   ]
  },
  {
   "cell_type": "markdown",
   "metadata": {},
   "source": [
    "## Neural Networks\n",
    "Let's start by learning a simple neural network with 1 hidden node.\n",
    "Note: we are going to use the input parameter solver='lbfgs' and random_state=numero_di_matricola to fix the random seed (so results are reproducible)."
   ]
  },
  {
   "cell_type": "code",
   "execution_count": 8,
   "metadata": {},
   "outputs": [
    {
     "name": "stdout",
     "output_type": "stream",
     "text": [
      "Training error:  0.2639480781015997\n",
      "Validation error:  0.3040462946282121\n",
      "[array([[-214.2706902 ],\n",
      "       [ 268.83014126],\n",
      "       [ 523.15531199],\n",
      "       [ -60.57620702],\n",
      "       [   4.17629812],\n",
      "       [ 709.84738204],\n",
      "       [ 293.97851894],\n",
      "       [ 136.39751309],\n",
      "       [ 814.60963176],\n",
      "       [ 492.64335933],\n",
      "       [ 163.33472905],\n",
      "       [-581.27391639],\n",
      "       [  38.01155997],\n",
      "       [-203.23453672],\n",
      "       [ 599.2678294 ],\n",
      "       [-141.80411624],\n",
      "       [ 146.94340034],\n",
      "       [ -26.95580774]]), array([[141.32340859]])]\n",
      "[array([3789.16189829]), array([-37.51218273])]\n"
     ]
    }
   ],
   "source": [
    "#let's load the MLPRegressor\n",
    "\n",
    "from sklearn.neural_network import MLPRegressor #COMPLETE\n",
    "\n",
    "#let's define the model\n",
    "mlp = MLPRegressor(hidden_layer_sizes=(1, ), solver=\"lbfgs\", random_state = numero_di_matricola) #COMPLETE\n",
    "\n",
    "#let's learn the model on training data\n",
    "mlp.fit(Xtrain_scaled, Ytrain)#COMPLETE\n",
    "\n",
    "#let's print the error (1 - R^2) on training data\n",
    "print(\"Training error: \", 1. - mlp.score(Xtrain_scaled, Ytrain)) #COMPLETE\n",
    "\n",
    "#let's print the error (1 - R^2) on validation data\n",
    "print(\"Validation error: \", 1. - mlp.score(Xval_scaled, Yval)) #COMPLETE\n",
    "\n",
    "#let's print the coefficients of the model for the input nodes (but not the bias)\n",
    "print(mlp.coefs_) #COMPLETE\n",
    "\n",
    "#let's print the coefficient for the bias (i.e., the bias)\n",
    "print(mlp.intercepts_) #COMPLETE"
   ]
  },
  {
   "cell_type": "markdown",
   "metadata": {},
   "source": [
    "## Neural Networks vs Linear Models\n",
    "\n",
    "Let's learn a linear model on the other same data and compare the results with the simple NN above."
   ]
  },
  {
   "cell_type": "code",
   "execution_count": 12,
   "metadata": {},
   "outputs": [
    {
     "name": "stdout",
     "output_type": "stream",
     "text": [
      "Training error:  0.2653594216072852\n",
      "Validation error:  0.3115400506517969\n",
      "[-31303.71909156  35848.45081517  74506.78099995  -8012.41104949\n",
      "    671.23713588 100205.53195594  41671.19028923  19507.84532115\n",
      " 111331.50566184  69959.22677526  23468.73219785 -78236.93092911\n",
      "   6535.34729956 -28197.21476235  83701.76486765 -21647.26671149\n",
      "  22056.22833416  -2002.69401407]\n",
      "536831.9203413766\n"
     ]
    }
   ],
   "source": [
    "from sklearn import linear_model #COMPLETE\n",
    "\n",
    "LR = linear_model.LinearRegression()\n",
    "\n",
    "LR.fit(Xtrain_scaled, Ytrain)#COMPLETE\n",
    "\n",
    "#let's print the error (1 - R^2) on training data\n",
    "print(\"Training error: \", 1. - LR.score(Xtrain_scaled, Ytrain)) #COMPLETE\n",
    "\n",
    "#let's print the error (1 - R^2) on validation data\n",
    "print(\"Validation error: \", 1. - LR.score(Xval_scaled, Yval)) #COMPLETE\n",
    "\n",
    "#let's print the coefficients of the model for the input nodes (but not the bias)\n",
    "print(LR.coef_) #COMPLETE\n",
    "\n",
    "#let's print the coefficient for the bias (i.e., the bias)\n",
    "print(LR.intercept_) #COMPLETE"
   ]
  },
  {
   "cell_type": "markdown",
   "metadata": {},
   "source": [
    "Is there a way to make a NN network learn a linear model?\n",
    "\n",
    "Let's first check what is the loss used by MLPRegressor..."
   ]
  },
  {
   "cell_type": "code",
   "execution_count": 15,
   "metadata": {},
   "outputs": [
    {
     "name": "stdout",
     "output_type": "stream",
     "text": [
      "Training error:  0.26535942166590454\n",
      "Validation error:  0.3115390658284922\n",
      "[array([[  51.55070235],\n",
      "       [ -59.02846704],\n",
      "       [-122.96939596],\n",
      "       [  13.19466306],\n",
      "       [  -1.10694448],\n",
      "       [-165.016906  ],\n",
      "       [ -68.62491747],\n",
      "       [ -32.12596414],\n",
      "       [-183.34020234],\n",
      "       [-114.96558392],\n",
      "       [ -38.51551396],\n",
      "       [ 128.83877577],\n",
      "       [ -10.76237595],\n",
      "       [  46.43749972],\n",
      "       [-137.83874569],\n",
      "       [  35.64844107],\n",
      "       [ -36.32214078],\n",
      "       [   3.29740834]]), array([[-607.24280969]])]\n",
      "[array([-883.44724722]), array([365.29153421])]\n"
     ]
    }
   ],
   "source": [
    "#let's write the code to learn a linear model with NN: how? \n",
    "\n",
    "#let's define the model\n",
    "mlp_lr = MLPRegressor(hidden_layer_sizes=(1, ), solver=\"lbfgs\", random_state = numero_di_matricola, activation = \"identity\") #COMPLETE\n",
    "\n",
    "#let's learn the model on training data\n",
    "mlp_lr.fit(Xtrain_scaled, Ytrain)#COMPLETE\n",
    "\n",
    "#let's print the error (1 - R^2) on training data\n",
    "print(\"Training error: \", 1. - mlp_lr.score(Xtrain_scaled, Ytrain)) #COMPLETE\n",
    "\n",
    "#let's print the error (1 - R^2) on validation data\n",
    "print(\"Validation error: \", 1. - mlp_lr.score(Xval_scaled, Yval)) #COMPLETE\n",
    "\n",
    "#let's print the coefficients of the model for the input nodes (but not the bias)\n",
    "print(mlp_lr.coefs_) #COMPLETE\n",
    "\n",
    "#let's print the coefficient for the bias (i.e., the bias)\n",
    "print(mlp_lr.intercepts_) #COMPLETE"
   ]
  },
  {
   "cell_type": "markdown",
   "metadata": {},
   "source": [
    "Note that there is an $\\ell_2$ regularization term in MLPRegressor. What about making it smaller?"
   ]
  },
  {
   "cell_type": "code",
   "execution_count": 16,
   "metadata": {},
   "outputs": [
    {
     "name": "stdout",
     "output_type": "stream",
     "text": [
      "Training error:  0.26535942166590454\n",
      "Validation error:  0.31153906582851487\n",
      "[array([[  51.55070235],\n",
      "       [ -59.02846704],\n",
      "       [-122.96939596],\n",
      "       [  13.19466306],\n",
      "       [  -1.10694448],\n",
      "       [-165.016906  ],\n",
      "       [ -68.62491747],\n",
      "       [ -32.12596414],\n",
      "       [-183.34020234],\n",
      "       [-114.96558392],\n",
      "       [ -38.51551396],\n",
      "       [ 128.83877577],\n",
      "       [ -10.76237595],\n",
      "       [  46.43749972],\n",
      "       [-137.83874569],\n",
      "       [  35.64844107],\n",
      "       [ -36.32214078],\n",
      "       [   3.29740834]]), array([[-607.24280969]])]\n",
      "[array([-883.44724722]), array([365.29153421])]\n"
     ]
    }
   ],
   "source": [
    "#COMPLETE\n",
    "\n",
    "#let's define the model\n",
    "mlp_lr_noreg = MLPRegressor(hidden_layer_sizes=(1, ), solver=\"lbfgs\", random_state = numero_di_matricola, activation = \"identity\", alpha=1e-20) #COMPLETE\n",
    "\n",
    "#let's learn the model on training data\n",
    "mlp_lr_noreg.fit(Xtrain_scaled, Ytrain)#COMPLETE\n",
    "\n",
    "#let's print the error (1 - R^2) on training data\n",
    "print(\"Training error: \", 1. - mlp_lr_noreg.score(Xtrain_scaled, Ytrain)) #COMPLETE\n",
    "\n",
    "#let's print the error (1 - R^2) on validation data\n",
    "print(\"Validation error: \", 1. - mlp_lr_noreg.score(Xval_scaled, Yval)) #COMPLETE\n",
    "\n",
    "#let's print the coefficients of the model for the input nodes (but not the bias)\n",
    "print(mlp_lr_noreg.coefs_) #COMPLETE\n",
    "\n",
    "#let's print the coefficient for the bias (i.e., the bias)\n",
    "print(mlp_lr_noreg.intercepts_) #COMPLETE"
   ]
  },
  {
   "cell_type": "markdown",
   "metadata": {},
   "source": [
    "## More Complex NNs\n",
    "\n",
    "Let's try more complex NN, for example increasing the number of nodes in the only hidden layer, or increasing the number of hidden layers."
   ]
  },
  {
   "cell_type": "markdown",
   "metadata": {},
   "source": [
    "Let's build a NN with 2 nodes in the only hidden layer"
   ]
  },
  {
   "cell_type": "code",
   "execution_count": 17,
   "metadata": {},
   "outputs": [
    {
     "name": "stdout",
     "output_type": "stream",
     "text": [
      "Training error:  0.18062204762767708\n",
      "Validation error:  0.20740387174470365\n",
      "[array([[  91.02730275,  -33.27495621],\n",
      "       [ 120.426258  ,   39.34029925],\n",
      "       [  85.92033098,   72.9854881 ],\n",
      "       [-271.76978265,   28.29864088],\n",
      "       [ -30.7062934 ,   17.82631683],\n",
      "       [ 197.57765784,   25.88717597],\n",
      "       [  34.91748275,   37.55666698],\n",
      "       [  96.9807779 ,   25.68593065],\n",
      "       [ 312.8005049 ,  132.75156317],\n",
      "       [  85.17191276,   68.79246682],\n",
      "       [  19.29957673,   23.32901307],\n",
      "       [-217.58250538,  -81.10854351],\n",
      "       [  -3.45286622,   20.17072215],\n",
      "       [-300.9651875 ,  -26.39908198],\n",
      "       [ 305.19643214,  144.62963693],\n",
      "       [-463.25823136,  -16.43003545],\n",
      "       [ 193.67218628,   53.02206533],\n",
      "       [-241.36794669,  -11.18297964]]), array([[615.21480933],\n",
      "       [548.87640907]])]\n",
      "[array([-1049.80655366,   897.57644076]), array([725.96713241])]\n"
     ]
    }
   ],
   "source": [
    "#let's build a NN with 2 nodes in the only hidden layer\n",
    "\n",
    "from sklearn.neural_network import MLPRegressor #COMPLETE\n",
    "\n",
    "#let's define the model\n",
    "mlp_1h2n = MLPRegressor(hidden_layer_sizes=(2, ), solver=\"lbfgs\", random_state = numero_di_matricola) #COMPLETE\n",
    "\n",
    "#let's learn the model on training data\n",
    "mlp_1h2n.fit(Xtrain_scaled, Ytrain)#COMPLETE\n",
    "\n",
    "#let's print the error (1 - R^2) on training data\n",
    "print(\"Training error: \", 1. - mlp_1h2n.score(Xtrain_scaled, Ytrain)) #COMPLETE\n",
    "\n",
    "#let's print the error (1 - R^2) on validation data\n",
    "print(\"Validation error: \", 1. - mlp_1h2n.score(Xval_scaled, Yval)) #COMPLETE\n",
    "\n",
    "#let's print the coefficients of the model for the input nodes (but not the bias)\n",
    "print(mlp_1h2n.coefs_) #COMPLETE\n",
    "\n",
    "#let's print the coefficient for the bias (i.e., the bias)\n",
    "print(mlp_1h2n.intercepts_) #COMPLETE"
   ]
  },
  {
   "cell_type": "markdown",
   "metadata": {},
   "source": [
    "Let's build a NN with 5 nodes in the only hidden layer"
   ]
  },
  {
   "cell_type": "code",
   "execution_count": 22,
   "metadata": {},
   "outputs": [
    {
     "name": "stdout",
     "output_type": "stream",
     "text": [
      "Training error:  0.16319548399504324\n",
      "Validation error:  0.2188084488823152\n",
      "[array([[ -212.42052182,   178.56878224,   -13.93417767,   178.16704452,\n",
      "          -31.9253716 ],\n",
      "       [  297.38251127,   417.20249223,   163.34881072,   155.2919727 ,\n",
      "            1.60478425],\n",
      "       [ -415.59091332,   350.22957967,   286.09538753,  -317.74580448,\n",
      "          292.84391406],\n",
      "       [ -170.44645464,   -25.1820697 ,  -761.12709977,   117.47032116,\n",
      "           77.06653586],\n",
      "       [  920.42730448,  -987.67682931,   348.2484192 ,   -45.05053924,\n",
      "         -135.20538027],\n",
      "       [ -391.11436992,   742.22169513,   536.3526787 ,  -526.54088295,\n",
      "          -81.9788458 ],\n",
      "       [ -581.59916475,   706.32604182,   -16.51241429,  -467.61467351,\n",
      "          202.91782666],\n",
      "       [  104.34600555,   798.43989716,   184.71685778,   -28.91483413,\n",
      "           21.98868105],\n",
      "       [ -387.67229429,   700.39784078,   555.40802976,    85.22505566,\n",
      "          437.05095339],\n",
      "       [ -523.15224841,   584.84780028,   313.81717101,  -157.21056212,\n",
      "          241.20500576],\n",
      "       [  109.94377056,  -353.76952582,     8.03773479,  -357.67936065,\n",
      "          153.80818082],\n",
      "       [  589.97347388,  -321.46563482,  -371.91967769,  -300.34193396,\n",
      "         -336.81195812],\n",
      "       [   46.41202768,  1000.80646669,  -478.9169616 ,  -635.93388006,\n",
      "           27.2120485 ],\n",
      "       [  358.35608351, -1391.0257625 ,  -549.33094531,  -170.74427437,\n",
      "         -107.92498752],\n",
      "       [ -488.25493511,   444.78161683,   827.76405683,    -7.81577678,\n",
      "          505.03014324],\n",
      "       [ -149.7473051 ,   876.56691032, -1394.52905822,   465.97407807,\n",
      "         -235.8582508 ],\n",
      "       [  502.18963773,   287.56721983,   407.58063654,    -1.92288386,\n",
      "          115.92040537],\n",
      "       [   34.64410151,  -206.18094714,  -716.60722781,   271.0532143 ,\n",
      "         -146.40105502]]), array([[ 55.48914185],\n",
      "       [ 46.29506272],\n",
      "       [244.66135444],\n",
      "       [ 75.29038458],\n",
      "       [207.38225499]])]\n",
      "[array([ 1997.05839853, -1203.52183018, -2926.5242131 ,   250.87345646,\n",
      "        1460.36063967]), array([393.94332084])]\n"
     ]
    },
    {
     "name": "stderr",
     "output_type": "stream",
     "text": [
      "/Users/pietrobon/opt/anaconda3/lib/python3.9/site-packages/sklearn/neural_network/_multilayer_perceptron.py:549: ConvergenceWarning: lbfgs failed to converge (status=1):\n",
      "STOP: TOTAL NO. of ITERATIONS REACHED LIMIT.\n",
      "\n",
      "Increase the number of iterations (max_iter) or scale the data as shown in:\n",
      "    https://scikit-learn.org/stable/modules/preprocessing.html\n",
      "  self.n_iter_ = _check_optimize_result(\"lbfgs\", opt_res, self.max_iter)\n"
     ]
    }
   ],
   "source": [
    "#let's build a NN with 5 nodes in the only hidden layer\n",
    "\n",
    "from sklearn.neural_network import MLPRegressor #COMPLETE\n",
    "\n",
    "#let's define the model\n",
    "mlp_1h5n = MLPRegressor(hidden_layer_sizes=(5, ), solver=\"lbfgs\", random_state = numero_di_matricola) #COMPLETE\n",
    "\n",
    "#let's learn the model on training data\n",
    "mlp_1h5n.fit(Xtrain_scaled, Ytrain)#COMPLETE\n",
    "\n",
    "#let's print the error (1 - R^2) on training data\n",
    "print(\"Training error: \", 1. - mlp_1h5n.score(Xtrain_scaled, Ytrain)) #COMPLETE\n",
    "\n",
    "#let's print the error (1 - R^2) on validation data\n",
    "print(\"Validation error: \", 1. - mlp_1h5n.score(Xval_scaled, Yval)) #COMPLETE\n",
    "\n",
    "#let's print the coefficients of the model for the input nodes (but not the bias)\n",
    "print(mlp_1h5n.coefs_) #COMPLETE\n",
    "\n",
    "#let's print the coefficient for the bias (i.e., the bias)\n",
    "print(mlp_1h5n.intercepts_) #COMPLETE"
   ]
  },
  {
   "cell_type": "markdown",
   "metadata": {},
   "source": [
    "Note that with a smaller number of iterations we had a larger error on training set but a smaller error on validation data -> \"early stopping is a form of regularization\""
   ]
  },
  {
   "cell_type": "markdown",
   "metadata": {},
   "source": [
    "Let's build a NN with 10 nodes in the only hidden layer"
   ]
  },
  {
   "cell_type": "code",
   "execution_count": 23,
   "metadata": {},
   "outputs": [
    {
     "name": "stdout",
     "output_type": "stream",
     "text": [
      "Training error:  0.12166041459011512\n",
      "Validation error:  0.30474906458367634\n",
      "[array([[  142.90157349,    -5.64252683,   -78.24670384,    81.80264724,\n",
      "           54.4690754 ,   -67.57084438,    30.49260416,    -7.62352087,\n",
      "          -49.2408123 ,   194.26623298],\n",
      "       [   19.96658921,   -70.14013944,   126.59977883,    81.77260576,\n",
      "         -126.33147599,   426.93649595,   308.06387783,   -17.12276879,\n",
      "          105.32066135,  -173.93899674],\n",
      "       [ -137.75067599,    61.86268552,   252.34475712,    32.68670536,\n",
      "         -181.87255964,   184.01698488,  -200.59881485,    -9.95255862,\n",
      "           92.27566777,  -178.51658159],\n",
      "       [  201.84001755,    71.9096388 ,    74.31277841,  -256.86885231,\n",
      "          -86.24887685,   -16.90169854,  -157.19191873,  -158.9461769 ,\n",
      "          -46.48850682,  -545.78031232],\n",
      "       [ -557.62996402,   610.55530946,  -202.15336765,    74.06301243,\n",
      "          204.20692671,   -11.14157963,  -177.38321874,   182.73816545,\n",
      "          196.76444621,  -654.77006564],\n",
      "       [  320.15564666,  -201.80194431,   -85.81935785,   111.58970164,\n",
      "         -374.69390986,   145.71169773,  -211.73393019,   -52.08059028,\n",
      "          220.72263473,   495.46187811],\n",
      "       [  -46.63260875,  -222.42461536,    31.66027832,   134.04024866,\n",
      "          161.70011323,  -186.71083885,   136.85213833,   -56.22725145,\n",
      "          -73.8178582 ,   -32.6379719 ],\n",
      "       [ -106.98828816,  -344.58626352,   -54.9999422 ,    66.03057071,\n",
      "          363.95472103,   368.06453753,     4.4788948 ,   108.61703245,\n",
      "          144.90252863,  -171.03517704],\n",
      "       [ -109.72541767,  -112.24113208,   230.66964168,   410.77813679,\n",
      "          109.60825067,   287.4097502 ,   183.65199887,   -32.45456453,\n",
      "          177.00292571,   482.74788972],\n",
      "       [  -34.69646752,     9.88615918,   246.75453207,    93.91522767,\n",
      "         -171.35741863,   130.17999473,   -33.43084647,   -23.99972243,\n",
      "          -11.27638885,  -243.14099949],\n",
      "       [ -216.54911596,   106.87818675,    62.29856198,  -104.81865787,\n",
      "          -56.70466543,   134.22915951,  -343.37792144,    24.8472145 ,\n",
      "          206.75499879,    80.79364569],\n",
      "       [  313.09785756,   198.02766287,   139.26711437,  -396.69772753,\n",
      "         -448.43817438,    33.20563879,   137.07129263,  -148.17594388,\n",
      "          200.39832861, -1002.16997193],\n",
      "       [  -92.62472113,  -570.27404838,   170.12803905,    71.00349803,\n",
      "          -44.66868465,   411.22696106,    82.76842351,  -165.42588746,\n",
      "         -836.0748282 ,  -383.63571987],\n",
      "       [ -215.71893088,   318.5686079 ,   -76.11136958,  -679.65399831,\n",
      "         -148.17910621,  -236.44893313,   -52.55243427,   -39.7113172 ,\n",
      "           86.63493883,   134.60732506],\n",
      "       [   -2.01660444,  -134.1208849 ,   289.70564346,   281.41635498,\n",
      "           65.32946399,   354.32848698,   151.72779432,    36.10779687,\n",
      "          337.27152936,    71.94132125],\n",
      "       [  635.97090454,  -145.30959304,  -142.65994641,  -282.08749179,\n",
      "          -32.3421653 ,   424.61621648,  -437.00617115,  -183.45455119,\n",
      "         -359.6740536 ,  -262.55495256],\n",
      "       [  202.5909709 ,  -359.79672481,  -119.69365011,    17.74381575,\n",
      "          486.47862637,   120.14725157,   243.22289925,   297.85102308,\n",
      "           72.16864972,   677.26623122],\n",
      "       [ -320.44842792,   176.22155109,   -32.60544425,   122.16682693,\n",
      "            1.50022691,  -142.51018401,  -262.2449475 ,  -220.49662554,\n",
      "          -81.55261215,  -359.68537533]]), array([[  77.7939194 ],\n",
      "       [  69.87336241],\n",
      "       [ 230.39891152],\n",
      "       [ 362.811921  ],\n",
      "       [ 125.22438522],\n",
      "       [  45.44830077],\n",
      "       [1092.98291094],\n",
      "       [ 451.20647569],\n",
      "       [ 694.25360558],\n",
      "       [  73.4789038 ]])]\n",
      "[array([ -200.77804797,   670.97702318,   961.02055821, -1161.35139214,\n",
      "         869.13449125,   424.84818571, -1184.44159142,  -504.32533584,\n",
      "       -1623.5356178 ,  -616.21503606]), array([360.19802662])]\n"
     ]
    },
    {
     "name": "stderr",
     "output_type": "stream",
     "text": [
      "/Users/pietrobon/opt/anaconda3/lib/python3.9/site-packages/sklearn/neural_network/_multilayer_perceptron.py:549: ConvergenceWarning: lbfgs failed to converge (status=1):\n",
      "STOP: TOTAL NO. of ITERATIONS REACHED LIMIT.\n",
      "\n",
      "Increase the number of iterations (max_iter) or scale the data as shown in:\n",
      "    https://scikit-learn.org/stable/modules/preprocessing.html\n",
      "  self.n_iter_ = _check_optimize_result(\"lbfgs\", opt_res, self.max_iter)\n"
     ]
    }
   ],
   "source": [
    "#let's build a NN with 10 nodes in the only hidden layer\n",
    "\n",
    "from sklearn.neural_network import MLPRegressor #COMPLETE\n",
    "\n",
    "#let's define the model\n",
    "mlp_1h10n = MLPRegressor(hidden_layer_sizes=(10, ), solver=\"lbfgs\", random_state = numero_di_matricola) #COMPLETE\n",
    "\n",
    "#let's learn the model on training data\n",
    "mlp_1h10n.fit(Xtrain_scaled, Ytrain)#COMPLETE\n",
    "\n",
    "#let's print the error (1 - R^2) on training data\n",
    "print(\"Training error: \", 1. - mlp_1h10n.score(Xtrain_scaled, Ytrain)) #COMPLETE\n",
    "\n",
    "#let's print the error (1 - R^2) on validation data\n",
    "print(\"Validation error: \", 1. - mlp_1h10n.score(Xval_scaled, Yval)) #COMPLETE\n",
    "\n",
    "#let's print the coefficients of the model for the input nodes (but not the bias)\n",
    "print(mlp_1h10n.coefs_) #COMPLETE\n",
    "\n",
    "#let's print the coefficient for the bias (i.e., the bias)\n",
    "print(mlp_1h10n.intercepts_) #COMPLETE"
   ]
  },
  {
   "cell_type": "markdown",
   "metadata": {},
   "source": [
    "Let's build a NN with 100 nodes in the only hidden layer. Note that this is the default!"
   ]
  },
  {
   "cell_type": "code",
   "execution_count": 24,
   "metadata": {},
   "outputs": [
    {
     "name": "stdout",
     "output_type": "stream",
     "text": [
      "Training error:  0.03138645935685236\n",
      "Validation error:  0.38673398065108233\n",
      "[array([[  88.01564147,  -20.88757248,   74.32197474, ..., -121.56426507,\n",
      "         168.69298174,  -87.42104112],\n",
      "       [   9.53756696,   67.87362961,   86.99794504, ...,   36.22614267,\n",
      "         -22.49776064,  -15.50747908],\n",
      "       [ -76.74482921,  -75.15169921,  100.97982527, ...,   31.46635555,\n",
      "         238.65599168,   45.00100989],\n",
      "       ...,\n",
      "       [  50.33743981,  -61.71113935,   69.47203088, ..., -379.91516011,\n",
      "          62.53446728,  -35.46205508],\n",
      "       [ -49.60164363,   83.15128489,  152.20787873, ..., -110.89090786,\n",
      "         -73.5251784 ,  -35.58799736],\n",
      "       [   8.47989996, -170.30551729,   43.98564458, ...,   86.62785586,\n",
      "          -2.34972701,   -3.53734511]]), array([[ 1.17116030e+02],\n",
      "       [ 3.95089139e+01],\n",
      "       [-2.32557360e+01],\n",
      "       [-4.51931511e+01],\n",
      "       [ 2.09076048e+02],\n",
      "       [ 5.97541549e+01],\n",
      "       [ 5.93123578e+01],\n",
      "       [ 2.79226561e+02],\n",
      "       [-2.56311971e+02],\n",
      "       [-2.06821306e+02],\n",
      "       [ 4.28309533e+01],\n",
      "       [-3.18045233e+02],\n",
      "       [ 1.93774400e+02],\n",
      "       [ 1.22736445e+02],\n",
      "       [ 2.15674252e+01],\n",
      "       [ 1.48665986e+02],\n",
      "       [ 5.50034279e+02],\n",
      "       [-8.32970968e+01],\n",
      "       [-8.27232107e+01],\n",
      "       [ 1.57005494e+02],\n",
      "       [-2.55642242e+02],\n",
      "       [ 1.24830312e+02],\n",
      "       [ 1.71387619e+02],\n",
      "       [ 2.74121779e+02],\n",
      "       [ 4.62092971e+02],\n",
      "       [-3.61381188e+02],\n",
      "       [ 6.84389338e+01],\n",
      "       [-2.99705802e+02],\n",
      "       [ 1.07079350e+02],\n",
      "       [ 1.85926374e+02],\n",
      "       [ 1.34258012e+02],\n",
      "       [-6.34548939e+02],\n",
      "       [ 3.81361427e+02],\n",
      "       [ 6.34917314e+02],\n",
      "       [-3.59418860e+02],\n",
      "       [ 1.86131623e+02],\n",
      "       [ 1.12011883e+02],\n",
      "       [-7.14522393e+01],\n",
      "       [ 9.90109571e+01],\n",
      "       [ 1.17127785e-01],\n",
      "       [ 1.55706267e+02],\n",
      "       [ 7.54107293e+01],\n",
      "       [ 5.95559822e+02],\n",
      "       [ 2.53443543e+02],\n",
      "       [ 7.94300284e+01],\n",
      "       [-1.67814566e+00],\n",
      "       [-2.44185478e+02],\n",
      "       [-1.02992894e+02],\n",
      "       [ 5.71852088e+00],\n",
      "       [-3.60661589e+01],\n",
      "       [ 8.91306181e+02],\n",
      "       [ 2.33013793e+02],\n",
      "       [ 2.06665644e+02],\n",
      "       [ 1.85297718e+02],\n",
      "       [ 2.66872389e+02],\n",
      "       [-5.39687089e+01],\n",
      "       [-1.58133195e+02],\n",
      "       [ 1.32928967e+02],\n",
      "       [ 1.00814362e+02],\n",
      "       [ 6.04753757e+01],\n",
      "       [ 1.47071260e+02],\n",
      "       [ 3.28099937e+02],\n",
      "       [-3.49214130e+02],\n",
      "       [-9.29180945e+00],\n",
      "       [ 2.37922598e+02],\n",
      "       [-2.80261461e+00],\n",
      "       [ 3.09491129e+01],\n",
      "       [-1.63418617e+02],\n",
      "       [-3.51465799e+02],\n",
      "       [-1.49432455e+02],\n",
      "       [ 4.49590897e+02],\n",
      "       [-2.29805705e+02],\n",
      "       [-3.29085617e+02],\n",
      "       [ 1.13678689e+02],\n",
      "       [-4.33989206e+02],\n",
      "       [ 1.56166209e+02],\n",
      "       [ 2.43575686e+02],\n",
      "       [ 2.26174705e+02],\n",
      "       [-2.24672872e+02],\n",
      "       [ 1.52715713e+02],\n",
      "       [ 9.08057157e+01],\n",
      "       [ 1.98447919e+02],\n",
      "       [ 1.70758615e+02],\n",
      "       [ 1.71484889e+02],\n",
      "       [ 2.09000891e+02],\n",
      "       [-1.87937568e+02],\n",
      "       [-1.60719068e+02],\n",
      "       [ 2.05416035e+02],\n",
      "       [-2.48442948e+02],\n",
      "       [-2.55676530e+02],\n",
      "       [ 1.24897052e+02],\n",
      "       [ 3.54093692e+02],\n",
      "       [ 3.00442277e+02],\n",
      "       [ 1.55313881e+02],\n",
      "       [-2.00761040e+02],\n",
      "       [ 3.28504413e+02],\n",
      "       [-1.29472379e+01],\n",
      "       [-3.99871049e+02],\n",
      "       [-2.77284848e+02],\n",
      "       [ 2.77168423e+02]])]\n",
      "[array([ 2.89231905e+02,  1.74569104e+01,  4.15130078e+01, -1.78827351e+02,\n",
      "        5.14016637e+01,  9.17439355e+01, -6.04004164e+01, -5.34507956e+02,\n",
      "        9.25948446e+01,  3.74341303e+01, -1.30725448e+02, -1.52549400e+02,\n",
      "        1.40880275e+02,  5.14167955e+01, -2.35727268e+02,  5.50754363e+01,\n",
      "       -7.78138655e+02, -2.22159744e+02,  2.20809044e+01,  3.11697213e+02,\n",
      "        1.58851258e+02, -2.83330343e+02,  2.68502653e+02,  3.02934465e+02,\n",
      "        1.91779056e+02, -6.50026543e+02, -1.11891570e+02,  2.13046635e+02,\n",
      "        4.06581345e-01, -4.58529521e+02,  1.80388202e+02, -3.56879089e+02,\n",
      "       -1.99620804e+02, -7.14564342e+02, -5.04528530e+02,  1.01223449e+02,\n",
      "        2.21960800e+02,  1.96491723e+01,  1.22289118e+02,  8.45688341e+01,\n",
      "       -1.24173543e+02, -1.24413997e+02, -8.87392596e+02,  1.44651990e+02,\n",
      "        6.16129718e+01, -8.61456000e+01,  6.49852685e+01,  2.83033305e+02,\n",
      "       -1.96224713e+02,  1.34160950e+02, -1.21489527e+03,  3.74796913e+02,\n",
      "        4.82754847e+01,  1.29401977e+02, -2.68388065e+02,  4.73283236e+01,\n",
      "        7.21342784e+01,  5.60852184e+00, -4.14776778e+01, -1.15249208e+02,\n",
      "        2.55574052e+02, -5.76980825e+01, -9.84849274e+01, -1.79430101e+02,\n",
      "       -3.54218501e+02,  2.76201151e+01, -6.20037681e+01, -1.07079661e+02,\n",
      "        6.16688097e+01, -1.26474986e+02, -3.94319179e+02,  1.77633276e+02,\n",
      "       -6.51013920e+01, -1.95976138e+02,  3.52408949e+02,  1.43680645e+02,\n",
      "       -6.12969602e+01, -3.40873419e+02, -7.82170781e+01, -1.23911436e+02,\n",
      "       -4.03202134e+01, -2.84646632e+02, -4.93577804e+02,  4.77478963e+02,\n",
      "       -9.00391116e+01,  2.19243694e+02,  1.35054005e+02, -3.39954618e+02,\n",
      "       -4.80273048e+01,  3.20921285e+02,  2.44121044e+02,  5.31134636e+02,\n",
      "       -4.46384699e+02, -1.59152632e+02, -1.85357456e+02, -4.94264800e+02,\n",
      "       -1.21909757e+02, -2.05481435e+02, -3.44800754e+02,  5.63823434e+02]), array([329.04061762])]\n"
     ]
    },
    {
     "name": "stderr",
     "output_type": "stream",
     "text": [
      "/Users/pietrobon/opt/anaconda3/lib/python3.9/site-packages/sklearn/neural_network/_multilayer_perceptron.py:549: ConvergenceWarning: lbfgs failed to converge (status=1):\n",
      "STOP: TOTAL NO. of ITERATIONS REACHED LIMIT.\n",
      "\n",
      "Increase the number of iterations (max_iter) or scale the data as shown in:\n",
      "    https://scikit-learn.org/stable/modules/preprocessing.html\n",
      "  self.n_iter_ = _check_optimize_result(\"lbfgs\", opt_res, self.max_iter)\n"
     ]
    }
   ],
   "source": [
    "#let's build a NN with 100 nodes in the only hidden layer\n",
    "\n",
    "from sklearn.neural_network import MLPRegressor #COMPLETE\n",
    "\n",
    "#let's define the model\n",
    "mlp_1h100n = MLPRegressor(hidden_layer_sizes=(100, ), solver=\"lbfgs\", random_state = numero_di_matricola) #COMPLETE\n",
    "\n",
    "#let's learn the model on training data\n",
    "mlp_1h100n.fit(Xtrain_scaled, Ytrain)#COMPLETE\n",
    "\n",
    "#let's print the error (1 - R^2) on training data\n",
    "print(\"Training error: \", 1. - mlp_1h100n.score(Xtrain_scaled, Ytrain)) #COMPLETE\n",
    "\n",
    "#let's print the error (1 - R^2) on validation data\n",
    "print(\"Validation error: \", 1. - mlp_1h100n.score(Xval_scaled, Yval)) #COMPLETE\n",
    "\n",
    "#let's print the coefficients of the model for the input nodes (but not the bias)\n",
    "print(mlp_1h100n.coefs_) #COMPLETE\n",
    "\n",
    "#let's print the coefficient for the bias (i.e., the bias)\n",
    "print(mlp_1h100n.intercepts_) #COMPLETE"
   ]
  },
  {
   "cell_type": "markdown",
   "metadata": {},
   "source": [
    "Let's try 2 layers, 1 node each"
   ]
  },
  {
   "cell_type": "code",
   "execution_count": null,
   "metadata": {},
   "outputs": [],
   "source": [
    "#let's build a NN with 2 hidden layers, 1 node each\n",
    "\n",
    "#COMPLETE"
   ]
  },
  {
   "cell_type": "markdown",
   "metadata": {},
   "source": [
    "Let's try 2 layers, 2 nodes each"
   ]
  },
  {
   "cell_type": "code",
   "execution_count": 25,
   "metadata": {},
   "outputs": [
    {
     "name": "stdout",
     "output_type": "stream",
     "text": [
      "Training error:  0.21279156721086012\n",
      "Validation error:  0.26992402416860495\n",
      "[array([[ -4.22577476,   2.63027224],\n",
      "       [  9.99342087,  -7.80910368],\n",
      "       [ 21.93698998, -27.03330468],\n",
      "       [ -8.24945212,  13.1650583 ],\n",
      "       [ -5.28469992,  17.17721391],\n",
      "       [ 21.98142398, -17.36619318],\n",
      "       [  9.62471103, -11.78924743],\n",
      "       [  6.02574135,  -3.58730912],\n",
      "       [ 38.40219038, -41.71203757],\n",
      "       [ 21.63601478, -27.37195716],\n",
      "       [  5.42173258,  -4.0912218 ],\n",
      "       [-28.8798438 ,  37.2404525 ],\n",
      "       [  0.31230183,   3.83151851],\n",
      "       [-15.55835082,  21.00288097],\n",
      "       [ 25.40006534,  -9.93940831],\n",
      "       [-18.41527883,  23.81319944],\n",
      "       [  5.82974355,   7.42355739],\n",
      "       [ -4.20219205,   8.94717134]]), array([[ -2.22792878,  65.44419175],\n",
      "       [-10.63576921,  26.55855252]]), array([[ 1.13997534],\n",
      "       [72.03579216]])]\n",
      "[array([82.77659745, 70.78953727]), array([ -10.55097674, -484.62292654]), array([147.77520455])]\n"
     ]
    },
    {
     "name": "stderr",
     "output_type": "stream",
     "text": [
      "/Users/pietrobon/opt/anaconda3/lib/python3.9/site-packages/sklearn/neural_network/_multilayer_perceptron.py:549: ConvergenceWarning: lbfgs failed to converge (status=1):\n",
      "STOP: TOTAL NO. of ITERATIONS REACHED LIMIT.\n",
      "\n",
      "Increase the number of iterations (max_iter) or scale the data as shown in:\n",
      "    https://scikit-learn.org/stable/modules/preprocessing.html\n",
      "  self.n_iter_ = _check_optimize_result(\"lbfgs\", opt_res, self.max_iter)\n"
     ]
    }
   ],
   "source": [
    "#let's build a NN with 2 layers, 2 nodes each\n",
    "\n",
    "from sklearn.neural_network import MLPRegressor #COMPLETE\n",
    "\n",
    "#let's define the model\n",
    "mlp_2h2n = MLPRegressor(hidden_layer_sizes=(2, 2, ), solver=\"lbfgs\", random_state = numero_di_matricola) #COMPLETE\n",
    "\n",
    "#let's learn the model on training data\n",
    "mlp_2h2n.fit(Xtrain_scaled, Ytrain)#COMPLETE\n",
    "\n",
    "#let's print the error (1 - R^2) on training data\n",
    "print(\"Training error: \", 1. - mlp_2h2n.score(Xtrain_scaled, Ytrain)) #COMPLETE\n",
    "\n",
    "#let's print the error (1 - R^2) on validation data\n",
    "print(\"Validation error: \", 1. - mlp_2h2n.score(Xval_scaled, Yval)) #COMPLETE\n",
    "\n",
    "#let's print the coefficients of the model for the input nodes (but not the bias)\n",
    "print(mlp_2h2n.coefs_) #COMPLETE\n",
    "\n",
    "#let's print the coefficient for the bias (i.e., the bias)\n",
    "print(mlp_2h2n.intercepts_) #COMPLETE"
   ]
  },
  {
   "cell_type": "markdown",
   "metadata": {},
   "source": [
    "Let's try 2 layers, 10 nodes each"
   ]
  },
  {
   "cell_type": "code",
   "execution_count": null,
   "metadata": {},
   "outputs": [],
   "source": [
    "#let's build a NN with 2 layers, 10 nodes each\n",
    "\n",
    "#COMPLETE"
   ]
  },
  {
   "cell_type": "markdown",
   "metadata": {},
   "source": [
    "Let's try 2 layers, 100 nodes each"
   ]
  },
  {
   "cell_type": "code",
   "execution_count": null,
   "metadata": {},
   "outputs": [],
   "source": [
    "#let's build a NN with 2 layers, 100 nodes each\n",
    "\n",
    "#COMPLETE"
   ]
  },
  {
   "cell_type": "markdown",
   "metadata": {},
   "source": [
    "So it seems that 1 layer (and default number of iterations) works best for this dataset. Let's try 5-fold cross-validation with number of nodes in the hidden layer between 1 and 20.\n",
    "Note that we use train and validation data together, since we are doing cross-validation."
   ]
  },
  {
   "cell_type": "code",
   "execution_count": null,
   "metadata": {},
   "outputs": [],
   "source": [
    "from sklearn.model_selection import GridSearchCV\n",
    "\n",
    "#COMPLETE"
   ]
  },
  {
   "cell_type": "markdown",
   "metadata": {},
   "source": [
    "Now let's check what is the best parameter, and compare the best NNs with the linear model (learned on train and validation) on test data."
   ]
  },
  {
   "cell_type": "code",
   "execution_count": null,
   "metadata": {},
   "outputs": [],
   "source": [
    "#let's print the best model according to grid search\n",
    "#COMPLETE\n",
    "\n",
    "#let's print the error 1-R^2 for the best model\n",
    "#COMPLETE"
   ]
  },
  {
   "cell_type": "markdown",
   "metadata": {},
   "source": [
    "Let compare the error of the best NN on train and validation and on test data."
   ]
  },
  {
   "cell_type": "code",
   "execution_count": null,
   "metadata": {},
   "outputs": [],
   "source": [
    "#COMPLETE"
   ]
  },
  {
   "cell_type": "markdown",
   "metadata": {},
   "source": [
    "Now let's learn the linear model on train and validation, and get error (1-R^2) on train and validation and on test data."
   ]
  },
  {
   "cell_type": "code",
   "execution_count": null,
   "metadata": {},
   "outputs": [],
   "source": [
    "#COMPLETE"
   ]
  },
  {
   "cell_type": "markdown",
   "metadata": {},
   "source": [
    "Note: MLPRegressor has several other parameters!"
   ]
  }
 ],
 "metadata": {
  "kernelspec": {
   "display_name": "Python 3 (ipykernel)",
   "language": "python",
   "name": "python3"
  },
  "language_info": {
   "codemirror_mode": {
    "name": "ipython",
    "version": 3
   },
   "file_extension": ".py",
   "mimetype": "text/x-python",
   "name": "python",
   "nbconvert_exporter": "python",
   "pygments_lexer": "ipython3",
   "version": "3.9.12"
  }
 },
 "nbformat": 4,
 "nbformat_minor": 4
}
